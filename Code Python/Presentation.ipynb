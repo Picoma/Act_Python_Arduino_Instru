{
 "cells": [
  {
   "cell_type": "markdown",
   "id": "tough-richmond",
   "metadata": {},
   "source": [
    "<center><h1>TP n° 42 : Réponse d'un circuit RC</h1></center>\n",
    "\n",
    "## Fonctionnement du TP\n",
    "\n",
    "Présentation du TP. Faire une vrai description, et rappeler la formule de  :\n",
    "\n",
    "$$\\frac{d u_C}{d t} - \\frac{1}{\\tau} u_C = \\frac{E}{\\tau} \\qquad ; \\qquad \\tau=RC$$\n",
    "\n",
    "En vrai, il serait sympa de mettre une image du circuit.\n",
    "\n",
    "Plusieurs bibliothèques sont disponibles (une seule importée au début) :\n",
    " - `module_communication_arduino`, module fait maison pour pouvoir **envoyer des commandes à l'Arduino depuis Python** ;\n",
    " - `TP_42` pour abréger des lignes de codes spécifiques à cette activité, qui n'apportent rien à l'élève (toutes cosmétique, la plupart pour les graphiques) ;\n",
    " - `time` pour les delais."
   ]
  },
  {
   "cell_type": "code",
   "execution_count": 1,
   "id": "threatened-newton",
   "metadata": {},
   "outputs": [],
   "source": [
    "from module_communication_arduino import Arduino\n",
    "import time"
   ]
  },
  {
   "cell_type": "markdown",
   "id": "induced-flashing",
   "metadata": {},
   "source": [
    "### Commandes disponibles\n",
    "\n",
    "Trois commandes peuvent être envoyées à l'Arduino :\n",
    " - `GENERATEUR_ON`, qui allume le générateur ;\n",
    " - `GENERATEUR_OFF`, qui éteint ce dernier ;\n",
    " - `RELEVE_VALEUR`, qui demande de faire une mesure de tension $u_C$ et renvoie sa valeur par le port série ;"
   ]
  },
  {
   "cell_type": "code",
   "execution_count": 2,
   "id": "conceptual-cambodia",
   "metadata": {},
   "outputs": [],
   "source": [
    "# Commandes Arduino disponibles\n",
    "GENERATEUR_ON =\"0\"\n",
    "GENERATEUR_OFF=\"1\"\n",
    "RELEVE_VALEUR =\"2\""
   ]
  },
  {
   "cell_type": "markdown",
   "id": "coordinate-democrat",
   "metadata": {},
   "source": [
    "### Syntaxe Python\n",
    "Pour cela, un objet `Arduino` permet de faire abstraction du côté technique. Pour envoyer une commande (et recevoir une mesure), on procède comme suit :"
   ]
  },
  {
   "cell_type": "code",
   "execution_count": 3,
   "id": "wired-involvement",
   "metadata": {},
   "outputs": [],
   "source": [
    "# Initialise la communication avec l'Arduino :\n",
    "mon_arduino = Arduino(\"/dev/ttyACM0\")\n",
    "time.sleep(1) # Attendre 1 seconde"
   ]
  },
  {
   "cell_type": "code",
   "execution_count": 6,
   "id": "organized-mixture",
   "metadata": {},
   "outputs": [
    {
     "data": {
      "text/plain": [
       "'6928;361'"
      ]
     },
     "execution_count": 6,
     "metadata": {},
     "output_type": "execute_result"
    }
   ],
   "source": [
    "# Réalisation d'une mesure\n",
    "message_retour = mon_arduino.envoi_message_et_recoit_reponse(RELEVE_VALEUR)\n",
    "message_retour"
   ]
  },
  {
   "cell_type": "markdown",
   "id": "controversial-lightweight",
   "metadata": {},
   "source": [
    "La valeur renvoyée par l'Arduino n'est pas exploitable telle quelle : il s'agit d'une chaine de caractères, composée des deux valeurs séparées d'un `;`. Il faut faire les transformations suivantes :\n",
    " - Séparer en deux variables la chaine de caractères ;\n",
    " - Convertir ces deux valeurs en `float` ;\n",
    " - Convertir l'unité de la première valeur (un temps exprimé en millisecondes) en secondes\n",
    " - Transformer la seconde valeur (un nombre de bit issu d'un CAN) en tension réelle (0 bit → 0 V, 1024 bit → 5V)\n",
    "\n",
    "**Ces opérations tiennent plus de l'informatique que de la physique... Pas la peine de trop s'y attarder** : cette transformation existe dans la bibliothèque `TP_42` :"
   ]
  },
  {
   "cell_type": "code",
   "execution_count": 7,
   "id": "coated-canada",
   "metadata": {},
   "outputs": [
    {
     "name": "stdout",
     "output_type": "stream",
     "text": [
      "Temps (s) :  6.928\n",
      "Tension Uc (V) :  1.7626953125\n"
     ]
    }
   ],
   "source": [
    "from TP_42 import transforme_message_arduino\n",
    "\n",
    "t_act, Uc_act = transforme_message_arduino(message_retour)\n",
    "print(\"Temps (s) : \", t_act)\n",
    "print(\"Tension Uc (V) : \", Uc_act)"
   ]
  },
  {
   "cell_type": "markdown",
   "id": "military-berkeley",
   "metadata": {},
   "source": [
    "------\n",
    "\n",
    "## Mesure automatique de la charge/décharge d'un condensateur\n",
    "\n",
    "### 1) Charge du condensateur\n",
    "\n",
    "Vu qu'on peut *piloter* l'Arduino, il ne reste plus qu'à transcrire ce que l'on veut faire.\n",
    "\n",
    "Pour mesurer la charge du condensateur, on doit :\n",
    " 1. Éteindre le générateur pour laisser le condensateur se décharger ;\n",
    " 2. Attendre la décharge ;\n",
    " 3. Allumer le générateur ;\n",
    " 4. Mesurer la tension $u_C$ tout au long de la charge.\n",
    " \n",
    "Pour cette dernière étape : **on réalise 500 mesures successives** . À chaque mesure, on sauvegarde le temps mesuré `t_act` dans une liste `t`, et la tension mesurée `Uc_act` dans une liste `Uc`.\n",
    "\n",
    "Le code suivant réalise les étapes 1. , 2. , et 3. Comment réaliser l'étape 4 ?"
   ]
  },
  {
   "cell_type": "code",
   "execution_count": 8,
   "id": "promotional-conditioning",
   "metadata": {},
   "outputs": [],
   "source": [
    "t,Uc = [],[] # Sauvegarde des mesures\n",
    "N=500        # Nombre de points de mesure\n",
    "\n",
    "# Étape 1.\n",
    "mon_arduino.envoi_message_et_recoit_reponse(GENERATEUR_OFF)\n",
    "\n",
    "# Étape 2.\n",
    "time.sleep(5) # On attends 5 secondes, pour que le condensateur se décharge\n",
    "\n",
    "# Étape 3.\n",
    "mon_arduino.envoi_message_et_recoit_reponse(GENERATEUR_ON)\n",
    "time.sleep(1)\n",
    "\n",
    "############################################# COMPLÉTER ICI LE CODE : #############################################\n",
    "# Déjà rempli pour l'exemple : on écrit une simple boucle for.\n",
    "# Si l'élève est malin (= sait se qu'est un copier-coller), il verra qu'il suffit de CC les cases précédentes\n",
    "# et de les mettre dans une boucle for.\n",
    "\n",
    "# Étape 4.\n",
    "for i in range(N):\n",
    "    message_retour = mon_arduino.envoi_message_et_recoit_reponse(RELEVE_VALEUR)\n",
    "    t_act, Uc_act = transforme_message_arduino(message_retour)\n",
    "    t.append(t_act)\n",
    "    Uc.append(Uc_act)\n",
    "\n",
    "###################################################################################################################\n",
    "\n",
    "# On éteinds le générateur par sécurité \n",
    "mon_arduino.envoi_message_et_recoit_reponse(GENERATEUR_OFF)\n",
    "\n",
    "# Transtypage utile pour la suite\n",
    "import numpy as np\n",
    "t=np.array(t)\n",
    "Uc=np.array(Uc)"
   ]
  },
  {
   "cell_type": "markdown",
   "id": "immune-illustration",
   "metadata": {},
   "source": [
    "Pour finir, on affiche le résultat (avec un joli graphique, dont la cosmétique est géré par la fonction `fait_un_joli_graphique` ) :"
   ]
  },
  {
   "cell_type": "code",
   "execution_count": 12,
   "id": "existing-membrane",
   "metadata": {},
   "outputs": [],
   "source": [
    "from matplotlib import pyplot as plt\n",
    "%matplotlib qt\n",
    "# Affichage d'un graphique dans une fenêtre à part ;\n",
    "# en cas de problème, remplacer 'qt' par 'notebook' (peut être plus lent)\n",
    "\n",
    "from TP_42 import fait_un_joli_graphique, SnappingCursor\n",
    "\n",
    "line, = plt.plot(t-t[0],Uc, label=\"Mesures\")\n",
    "fait_un_joli_graphique()\n",
    "\n",
    "cursor = SnappingCursor(plt.gca(), line, useblit=True, color='black', alpha=0.5, ls=\"dashed\")\n",
    "\n",
    "plt.show()"
   ]
  }
 ],
 "metadata": {
  "kernelspec": {
   "display_name": "CommPythonArduino",
   "language": "python",
   "name": "commpythonarduino"
  },
  "language_info": {
   "codemirror_mode": {
    "name": "ipython",
    "version": 3
   },
   "file_extension": ".py",
   "mimetype": "text/x-python",
   "name": "python",
   "nbconvert_exporter": "python",
   "pygments_lexer": "ipython3",
   "version": "3.10.6"
  }
 },
 "nbformat": 4,
 "nbformat_minor": 5
}
